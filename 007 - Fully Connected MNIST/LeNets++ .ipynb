{
 "cells": [
  {
   "cell_type": "markdown",
   "metadata": {},
   "source": [
    "# Building a Multilayer Convolutional Network\n",
    "\n",
    "the previous tutorial is using softmax regression to recognize MNIST digits.\n",
    "\n",
    "The tutorial for this notebook is here:\n",
    "\n",
    "[Building a Multilayer Convolutional Network](https://www.tensorflow.org/versions/r0.10/tutorials/mnist/pros/index.html#deep-mnist-for-experts#content)"
   ]
  },
  {
   "cell_type": "code",
   "execution_count": 1,
   "metadata": {
    "collapsed": true
   },
   "outputs": [],
   "source": [
    "import tensorflow as tf"
   ]
  },
  {
   "cell_type": "code",
   "execution_count": 3,
   "metadata": {
    "collapsed": true
   },
   "outputs": [],
   "source": [
    "def weight_variable(shape):\n",
    "    initial = tf.truncated_normal(shape, stddev=0.1)\n",
    "    return tf.Variable(initial)"
   ]
  },
  {
   "cell_type": "code",
   "execution_count": 4,
   "metadata": {
    "collapsed": true
   },
   "outputs": [],
   "source": [
    "def bias_variable(shape):\n",
    "    initial = tf.constant(0.1, shape=shape)\n",
    "    return tf.Variable(initial)"
   ]
  },
  {
   "cell_type": "code",
   "execution_count": 25,
   "metadata": {
    "collapsed": true
   },
   "outputs": [],
   "source": [
    "def conv2d(x, W):\n",
    "    return tf.nn.conv2d(x, W, strides=[1, 1, 1, 1], padding='SAME')"
   ]
  },
  {
   "cell_type": "code",
   "execution_count": 6,
   "metadata": {
    "collapsed": true
   },
   "outputs": [],
   "source": [
    "def max_pool_2x2(x):\n",
    "    return tf.nn.max_pool(x, ksize=[1, 2, 2, 1],\n",
    "                          strides=[1, 2, 2, 1], padding='SAME')"
   ]
  },
  {
   "cell_type": "code",
   "execution_count": 9,
   "metadata": {
    "collapsed": true
   },
   "outputs": [],
   "source": [
    "x = tf.placeholder(tf.float32, shape=[None, 784])\n",
    "y_ = tf.placeholder(tf.float32, shape=[None, 10])"
   ]
  },
  {
   "cell_type": "code",
   "execution_count": 10,
   "metadata": {
    "collapsed": false
   },
   "outputs": [],
   "source": [
    "x_image = tf.reshape(x, [-1, 28, 28, 1])"
   ]
  },
  {
   "cell_type": "code",
   "execution_count": 26,
   "metadata": {
    "collapsed": false
   },
   "outputs": [],
   "source": [
    "W_conv1 = weight_variable([5, 5, 1, 32])\n",
    "b_conv1 = bias_variable([32])\n",
    "layer_conv_1 = conv2d(x_image, W_conv1) + b_conv1"
   ]
  },
  {
   "cell_type": "code",
   "execution_count": 38,
   "metadata": {
    "collapsed": false
   },
   "outputs": [],
   "source": [
    "W_conv2 = weight_variable([5, 5, 32, 32])\n",
    "b_conv2 = bias_variable([32])\n",
    "layer_conv_2 = conv2d(layer_conv_1, W_conv2) + b_conv2\n",
    "\n",
    "stage_1_pool = max_pool_2x2(layer_conv_2)"
   ]
  },
  {
   "cell_type": "code",
   "execution_count": 39,
   "metadata": {
    "collapsed": false
   },
   "outputs": [],
   "source": [
    "W_conv3 = weight_variable([5, 5, 32, 64])\n",
    "b_conv3 = bias_variable([64])\n",
    "layer_conv_3 = conv2d(layer_conv_2, W_conv3) + b_conv3\n",
    "\n",
    "W_conv4 = weight_variable([5, 5, 64, 64])\n",
    "b_conv4 = bias_variable([64])\n",
    "layer_conv_4 = conv2d(layer_conv_3, W_conv4) + b_conv4\n",
    "\n",
    "stage_2_pool = max_pool_2x2(layer_conv_4)"
   ]
  },
  {
   "cell_type": "markdown",
   "metadata": {},
   "source": [
    "## Stage 3:"
   ]
  },
  {
   "cell_type": "code",
   "execution_count": 40,
   "metadata": {
    "collapsed": true
   },
   "outputs": [],
   "source": [
    "W_conv5 = weight_variable([5, 5, 64, 128])\n",
    "b_conv5 = bias_variable([128])\n",
    "layer_conv_5 = conv2d(layer_conv_4, W_conv5) + b_conv5\n",
    "\n",
    "W_conv6 = weight_variable([5, 5, 128, 128])\n",
    "b_conv6 = bias_variable([128])\n",
    "layer_conv_6 = conv2d(layer_conv_5, W_conv6) + b_conv6\n",
    "\n",
    "stage_3_pool = max_pool_2x2(layer_conv_6)"
   ]
  },
  {
   "cell_type": "code",
   "execution_count": 41,
   "metadata": {
    "collapsed": false
   },
   "outputs": [
    {
     "data": {
      "text/plain": [
       "TensorShape([Dimension(None), Dimension(14), Dimension(14), Dimension(128)])"
      ]
     },
     "execution_count": 41,
     "metadata": {},
     "output_type": "execute_result"
    }
   ],
   "source": [
    "stage_3_pool.get_shape()"
   ]
  },
  {
   "cell_type": "code",
   "execution_count": 42,
   "metadata": {
    "collapsed": true
   },
   "outputs": [],
   "source": [
    "W_fc1 = weight_variable([14 * 14 * 128, 2])\n",
    "b_fc1 = bias_variable([2])\n",
    "\n",
    "stage_3_pool_flat = tf.reshape(stage_3_pool, [-1, 14 * 14 * 128])\n",
    "h_fc1 = tf.nn.relu(tf.matmul(stage_3_pool_flat, W_fc1) + b_fc1)"
   ]
  },
  {
   "cell_type": "code",
   "execution_count": 43,
   "metadata": {
    "collapsed": true
   },
   "outputs": [],
   "source": [
    "keep_prob = tf.placeholder(tf.float32)\n",
    "h_fc1_drop = tf.nn.dropout(h_fc1, keep_prob)"
   ]
  },
  {
   "cell_type": "code",
   "execution_count": 48,
   "metadata": {
    "collapsed": false
   },
   "outputs": [],
   "source": [
    "W_fc2 = weight_variable([2, 10])\n",
    "b_fc2 = bias_variable([10])\n",
    "\n",
    "y_conv = tf.nn.softmax(tf.matmul(h_fc1_drop, W_fc2) + b_fc2)"
   ]
  },
  {
   "cell_type": "code",
   "execution_count": 49,
   "metadata": {
    "collapsed": false
   },
   "outputs": [
    {
     "name": "stdout",
     "output_type": "stream",
     "text": [
      "Extracting MNIST_data/train-images-idx3-ubyte.gz\n",
      "Extracting MNIST_data/train-labels-idx1-ubyte.gz\n",
      "Extracting MNIST_data/t10k-images-idx3-ubyte.gz\n",
      "Extracting MNIST_data/t10k-labels-idx1-ubyte.gz\n"
     ]
    }
   ],
   "source": [
    "from tensorflow.examples.tutorials.mnist import input_data\n",
    "mnist = input_data.read_data_sets('MNIST_data', one_hot=True)"
   ]
  },
  {
   "cell_type": "code",
   "execution_count": 50,
   "metadata": {
    "collapsed": false
   },
   "outputs": [],
   "source": [
    "sess = tf.InteractiveSession()"
   ]
  },
  {
   "cell_type": "code",
   "execution_count": 57,
   "metadata": {
    "collapsed": false,
    "scrolled": true
   },
   "outputs": [
    {
     "name": "stdout",
     "output_type": "stream",
     "text": [
      "step 0, training accuracy 0.12\n",
      "step 100, training accuracy 0.12\n",
      "step 200, training accuracy 0.1\n",
      "step 300, training accuracy 0.18\n",
      "step 400, training accuracy 0.06\n",
      "step 500, training accuracy 0.1\n",
      "step 600, training accuracy 0.04\n",
      "step 700, training accuracy 0.12\n",
      "step 800, training accuracy 0.08\n",
      "step 900, training accuracy 0.14\n",
      "step 1000, training accuracy 0.06\n",
      "step 1100, training accuracy 0.1\n",
      "step 1200, training accuracy 0.1\n",
      "step 1300, training accuracy 0.08\n",
      "step 1400, training accuracy 0.08\n",
      "step 1500, training accuracy 0.08\n",
      "step 1600, training accuracy 0.12\n",
      "step 1700, training accuracy 0.1\n",
      "step 1800, training accuracy 0.08\n",
      "step 1900, training accuracy 0.04\n",
      "step 2000, training accuracy 0.08\n",
      "step 2100, training accuracy 0.04\n",
      "step 2200, training accuracy 0.1\n",
      "step 2300, training accuracy 0.06\n",
      "step 2400, training accuracy 0.22\n",
      "step 2500, training accuracy 0.18\n",
      "step 2600, training accuracy 0.08\n",
      "step 2700, training accuracy 0.16\n",
      "step 2800, training accuracy 0.14\n",
      "step 2900, training accuracy 0.12\n",
      "step 3000, training accuracy 0.16\n",
      "step 3100, training accuracy 0.04\n",
      "step 3200, training accuracy 0.14\n",
      "step 3300, training accuracy 0.1\n",
      "step 3400, training accuracy 0.06\n",
      "step 3500, training accuracy 0.02\n",
      "step 3600, training accuracy 0.12\n",
      "step 3700, training accuracy 0.1\n",
      "step 3800, training accuracy 0.08\n",
      "step 3900, training accuracy 0.06\n",
      "step 4000, training accuracy 0.18\n",
      "step 4100, training accuracy 0.08\n",
      "step 4200, training accuracy 0.04\n",
      "step 4300, training accuracy 0.1\n",
      "step 4400, training accuracy 0.12\n",
      "step 4500, training accuracy 0.14\n",
      "step 4600, training accuracy 0.16\n",
      "step 4700, training accuracy 0.12\n",
      "step 4800, training accuracy 0.06\n",
      "step 4900, training accuracy 0.12\n",
      "step 5000, training accuracy 0.06\n",
      "step 5100, training accuracy 0.16\n",
      "step 5200, training accuracy 0.16\n",
      "step 5300, training accuracy 0.08\n",
      "step 5400, training accuracy 0.1\n",
      "step 5500, training accuracy 0.1\n",
      "step 5600, training accuracy 0.14\n",
      "step 5700, training accuracy 0.12\n",
      "step 5800, training accuracy 0.18\n",
      "step 5900, training accuracy 0.1\n",
      "step 6000, training accuracy 0.06\n",
      "step 6100, training accuracy 0.08\n",
      "step 6200, training accuracy 0.1\n",
      "step 6300, training accuracy 0.04\n",
      "step 6400, training accuracy 0.08\n",
      "step 6500, training accuracy 0.16\n",
      "step 6600, training accuracy 0.1\n",
      "step 6700, training accuracy 0.1\n",
      "step 6800, training accuracy 0.06\n",
      "step 6900, training accuracy 0.08\n",
      "step 7000, training accuracy 0.1\n",
      "step 7100, training accuracy 0.1\n",
      "step 7200, training accuracy 0.06\n",
      "step 7300, training accuracy 0.08\n",
      "step 7400, training accuracy 0.1\n",
      "step 7500, training accuracy 0.08\n",
      "step 7600, training accuracy 0.1\n",
      "step 7700, training accuracy 0.12\n",
      "step 7800, training accuracy 0.2\n",
      "step 7900, training accuracy 0.08\n",
      "step 8000, training accuracy 0.08\n",
      "step 8100, training accuracy 0.02\n",
      "step 8200, training accuracy 0.12\n",
      "step 8300, training accuracy 0.08\n",
      "step 8400, training accuracy 0.1\n",
      "step 8500, training accuracy 0.16\n",
      "step 8600, training accuracy 0.1\n",
      "step 8700, training accuracy 0.16\n",
      "step 8800, training accuracy 0.06\n",
      "step 8900, training accuracy 0.06\n",
      "step 9000, training accuracy 0.1\n",
      "step 9100, training accuracy 0.08\n",
      "step 9200, training accuracy 0.08\n",
      "step 9300, training accuracy 0.08\n",
      "step 9400, training accuracy 0.1\n",
      "step 9500, training accuracy 0.08\n",
      "step 9600, training accuracy 0.12\n",
      "step 9700, training accuracy 0.04\n",
      "step 9800, training accuracy 0.08\n",
      "step 9900, training accuracy 0.1\n",
      "CPU times: user 19min 17s, sys: 3min 31s, total: 22min 49s\n",
      "Wall time: 29min 23s\n"
     ]
    }
   ],
   "source": [
    "%%time\n",
    "cross_entropy = tf.reduce_mean(-tf.reduce_sum(y_ * tf.log(y_conv), reduction_indices=[1]))\n",
    "train_step = tf.train.AdamOptimizer(1e-4).minimize(cross_entropy)\n",
    "correct_prediction = tf.equal(tf.argmax(y_conv,1), tf.argmax(y_,1))\n",
    "accuracy = tf.reduce_mean(tf.cast(correct_prediction, tf.float32))\n",
    "sess.run(tf.initialize_all_variables())\n",
    "for i in range(40000):\n",
    "  batch = mnist.train.next_batch(50)\n",
    "  if i%100 == 0:\n",
    "    train_accuracy = accuracy.eval(feed_dict={\n",
    "        x:batch[0], y_: batch[1], keep_prob: 1.0})\n",
    "    print(\"step %d, training accuracy %g\"%(i, train_accuracy))\n",
    "  train_step.run(feed_dict={x: batch[0], y_: batch[1], keep_prob: 0.5})"
   ]
  },
  {
   "cell_type": "code",
   "execution_count": 25,
   "metadata": {
    "collapsed": false
   },
   "outputs": [
    {
     "name": "stdout",
     "output_type": "stream",
     "text": [
      "test accuracy 0.992\n",
      "CPU times: user 12 ms, sys: 0 ns, total: 12 ms\n",
      "Wall time: 10.7 ms\n"
     ]
    }
   ],
   "source": [
    "%%time\n",
    "print(\"test accuracy %g\"%accuracy.eval(feed_dict={\n",
    "    x: mnist.test.images[:250], y_: mnist.test.labels[:250], keep_prob: 1.0}))"
   ]
  },
  {
   "cell_type": "code",
   "execution_count": null,
   "metadata": {
    "collapsed": true
   },
   "outputs": [],
   "source": []
  }
 ],
 "metadata": {
  "anaconda-cloud": {},
  "kernelspec": {
   "display_name": "Python 2",
   "language": "python",
   "name": "python2"
  },
  "language_info": {
   "codemirror_mode": {
    "name": "ipython",
    "version": 2
   },
   "file_extension": ".py",
   "mimetype": "text/x-python",
   "name": "python",
   "nbconvert_exporter": "python",
   "pygments_lexer": "ipython2",
   "version": "2.7.6"
  }
 },
 "nbformat": 4,
 "nbformat_minor": 0
}
