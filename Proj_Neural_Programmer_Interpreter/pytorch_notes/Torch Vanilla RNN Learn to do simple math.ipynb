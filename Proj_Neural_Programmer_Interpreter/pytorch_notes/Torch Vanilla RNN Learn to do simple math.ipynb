{
 "cells": [
  {
   "cell_type": "markdown",
   "metadata": {},
   "source": [
    "# Overview\n",
    "\n",
    "A simple vanilla RNN Terence Tao who learns how to do grade-school math by asking a `Sensei` for solutions to math problems. `Tutor` creates a random question, while `Sensei` gives the answer. \n",
    "\n",
    "Tao is a simple 1-layer vanilla RNN. \n",
    "\n",
    "\n",
    "### Surprises and Key Learnings\n",
    "\n",
    "1. **The initial state of the hidden layer encodes context information**, and it is important to take special care when designing the initializations trategy during training. There are typically three ways to handel the initialization of these states during training:\n",
    "    a. init to zero every batch\n",
    "    b. init to random every batch\n",
    "    c. init to either zero or random at the begining of each Epoch.\n",
    "    \n",
    "    I found that init to zero every batch (every training really) is the best way to approach this. If we init only to zero at the begining of every epoch, the initially random behavior of the network means the hidden states will quickly drift away, to a completely context in the parameter space. Therefore it is important to have a hard reset on the context before each training. \n",
    "    \n",
    "    As the network becomes more confidence this might be less of a requirement. \n",
    "\n",
    "\n",
    "\n",
    "### Todo:\n",
    "all done\n",
    "\n",
    "### Done:\n",
    "- [x] Add temperature to generator\n",
    "- [x] get training to work\n",
    "- [x] use optim and Adam\n",
    "- [x] add self-feeding generator"
   ]
  },
  {
   "cell_type": "code",
   "execution_count": 1,
   "metadata": {
    "collapsed": false
   },
   "outputs": [],
   "source": [
    "import torch\n",
    "import random\n",
    "from torch.autograd import Variable\n",
    "import torch.nn as nn\n",
    "import torch.nn.functional as F\n",
    "import torch.optim as optim\n",
    "\n",
    "from utils import forward_tracer, backward_tracer, Char2Vec, num_flat_features\n",
    "\n",
    "import matplotlib.pyplot as plt\n",
    "%matplotlib inline\n",
    "%config InlineBackend.figure_format = 'retina'\n",
    "\n",
    "import numpy as np\n",
    "\n",
    "from tqdm import tqdm\n",
    "\n",
    "from IPython.display import clear_output"
   ]
  },
  {
   "cell_type": "code",
   "execution_count": 2,
   "metadata": {
    "collapsed": false
   },
   "outputs": [
    {
     "name": "stdout",
     "output_type": "stream",
     "text": [
      "['\\x00\\x00\\x00\\x003'] True\n"
     ]
    }
   ],
   "source": [
    "def sensei(query):\n",
    "    for i, char in enumerate(query):\n",
    "        if char is \"=\":\n",
    "            return \"\\x00\" * (i+1) + str(eval(query[:i]))\n",
    "def tutor():\n",
    "    draw = random.random()\n",
    "    if draw > 0.5:\n",
    "        return \"1+2=?\"\n",
    "    else:\n",
    "        return \"1+1=?\"\n",
    "\n",
    "test = tutor()\n",
    "answer = sensei(test)\n",
    "print([answer], len(answer)==len(test))"
   ]
  },
  {
   "cell_type": "code",
   "execution_count": 3,
   "metadata": {
    "collapsed": false,
    "scrolled": false
   },
   "outputs": [
    {
     "data": {
      "text/plain": [
       "'                                     \\nrnn = VanillaRNN(100, 120, 90)\\nhidden = rnn.init_hidden()\\nrnn(Variable(torch.randn(1, 100)), hidden, 10)'"
      ]
     },
     "execution_count": 3,
     "metadata": {},
     "output_type": "execute_result"
    }
   ],
   "source": [
    "class VanillaRNN(nn.Module):\n",
    "    def __init__(self, input_size, hidden_size, output_size):\n",
    "        super(VanillaRNN, self).__init__()\n",
    "        self.input_size = input_size\n",
    "        self.hidden_size = hidden_size\n",
    "        self.output_size = output_size\n",
    "        \n",
    "        self.xhh = torch.nn.Linear(input_size + hidden_size, hidden_size)\n",
    "        self.ho = torch.nn.Linear(hidden_size, output_size)\n",
    "        self.softmax = F.softmax\n",
    "        \n",
    "    def forward(self, x, hidden):\n",
    "        xs = x.chunk(x.size()[0])\n",
    "        outputs = []\n",
    "        for row_vec in xs:\n",
    "            hidden = self.xhh(torch.cat((row_vec, hidden), 1))\n",
    "            outputs.append(self.ho(hidden))\n",
    "        output = torch.cat(outputs, 0)\n",
    "        return output, hidden\n",
    "    \n",
    "    def init_hidden(self, random=False):\n",
    "        if random:\n",
    "            return Variable(torch.randn(1, self.hidden_size))\n",
    "        else:\n",
    "            return Variable(torch.zeros(1, self.hidden_size)) \n",
    "\"\"\"                                     \n",
    "rnn = VanillaRNN(100, 120, 90)\n",
    "hidden = rnn.init_hidden()\n",
    "rnn(Variable(torch.randn(1, 100)), hidden, 10)\"\"\""
   ]
  },
  {
   "cell_type": "code",
   "execution_count": 4,
   "metadata": {
    "collapsed": false
   },
   "outputs": [],
   "source": [
    "class Tao():\n",
    "    def __init__(self, model):\n",
    "        self.model = model\n",
    "        self.char2vec = Char2Vec()\n",
    "        self.loss = 0\n",
    "        self.losses = []\n",
    "    \n",
    "    def init_hidden_(self, random=False):\n",
    "        self.hidden = model.init_hidden(random)\n",
    "        return self\n",
    "    \n",
    "    def save(self, fn=\"Vanilla_RNN_Tao.tar\"):\n",
    "        torch.save({\n",
    "            \"hidden\": self.hidden, \n",
    "            \"state_dict\": model.state_dict(),\n",
    "            \"losses\": self.losses\n",
    "                   }, fn)\n",
    "    \n",
    "    def load(self, fn):\n",
    "        checkpoint = torch.load(fn)\n",
    "        self.hidden = checkpoint['hidden']\n",
    "        model.load_state_dict(checkpoint['state_dict'])\n",
    "        self.losses = checkpoint['losses']\n",
    "    \n",
    "    def setup_training(self, learning_rate):\n",
    "        self.optimizer = optim.Adam(model.parameters(), lr=learning_rate)\n",
    "        self.loss_fn = nn.CrossEntropyLoss()\n",
    "        self.init_hidden_()\n",
    "        \n",
    "    def reset_loss(self):\n",
    "        self.loss = 0\n",
    "        \n",
    "    def forward(self, input_text, target_text):\n",
    "        \n",
    "        self.hidden.detach_()\n",
    "        self.optimizer.zero_grad()\n",
    "        self.next_(input_text)\n",
    "        target_vec = Variable(self.char2vec.char_code(target_text))\n",
    "        self.loss += self.loss_fn(self.output, target_vec)\n",
    "        \n",
    "    def descent(self):\n",
    "        self.loss.backward()\n",
    "        self.optimizer.step()\n",
    "        self.losses.append(self.loss.cpu().data.numpy())\n",
    "        self.reset_loss()\n",
    "    \n",
    "    def embed(self, input_data):\n",
    "        self.embeded = Variable(self.char2vec.one_hot(input_data))\n",
    "        return self.embeded\n",
    "        \n",
    "    def next_(self, input_text):\n",
    "        self.output, self.hidden = self.model(\n",
    "            self.embed(input_text)#.view(1, -1, self.model.input_size)\n",
    "            , self.hidden)\n",
    "        return self\n",
    "    \n",
    "    def softmax_(self, temperature=0.5):\n",
    "        self.softmax = self.model.softmax(self.output/temperature)\n",
    "        return self\n",
    "    \n",
    "    def text(self, start=None, end=None):\n",
    "        indeces = torch.multinomial(self.softmax[start:end]).view(-1)\n",
    "        return self.char2vec.vec2str(indeces)"
   ]
  },
  {
   "cell_type": "code",
   "execution_count": 5,
   "metadata": {
    "collapsed": false
   },
   "outputs": [],
   "source": [
    "input_size = 101 # len(char2vec.chars)\n",
    "hidden_size = input_size\n",
    "\n",
    "model = VanillaRNN(input_size, hidden_size, input_size)\n",
    "terence = Tao(model)\n",
    "# ted.load('./data/Vanilla_RNN_Tao.tar')"
   ]
  },
  {
   "cell_type": "code",
   "execution_count": 6,
   "metadata": {
    "collapsed": false
   },
   "outputs": [],
   "source": [
    "learning_rate = 0.2e-3\n",
    "terence.setup_training(learning_rate)"
   ]
  },
  {
   "cell_type": "code",
   "execution_count": 7,
   "metadata": {
    "collapsed": false,
    "scrolled": false
   },
   "outputs": [
    {
     "name": "stdout",
     "output_type": "stream",
     "text": [
      "Epoch 29  input: 1+2=?\n",
      "____3\n",
      "['\\x00\\x00\\x00\\x003']\n"
     ]
    },
    {
     "data": {
      "image/png": "[encoded data removed]",
      "text/plain": [
       "<matplotlib.figure.Figure at 0x7fee117de390>"
      ]
     },
     "metadata": {
      "image/png": {
       "height": 56,
       "width": 715
      }
     },
     "output_type": "display_data"
    },
    {
     "data": {
      "image/png": "[encoded data removed]",
      "text/plain": [
       "<matplotlib.figure.Figure at 0x7fee13ac5320>"
      ]
     },
     "metadata": {
      "image/png": {
       "height": 209,
       "width": 593
      }
     },
     "output_type": "display_data"
    },
    {
     "name": "stderr",
     "output_type": "stream",
     "text": [
      "100%|██████████| 200/200 [00:01<00:00, 151.53it/s]\n"
     ]
    }
   ],
   "source": [
    "model.zero_grad()\n",
    "terence.reset_loss()\n",
    "\n",
    "# seq_length = 10\n",
    "batches = 200\n",
    "\n",
    "for epoch_num in range(30):\n",
    "    \n",
    "    for step in tqdm(range(batches)):\n",
    "\n",
    "        source_ = tutor()\n",
    "        target_ = sensei(source_)\n",
    "        \n",
    "        terence.init_hidden_()\n",
    "        terence.forward(source_, target_)\n",
    "        \n",
    "        if step%5 == 4:\n",
    "            terence.descent()\n",
    "        \n",
    "        if step%100 == 99:\n",
    "            clear_output(wait=True)\n",
    "            \n",
    "            terence.softmax_(1)\n",
    "            \n",
    "            string_output = terence.text()\n",
    "            print('Epoch {:d}'.format(epoch_num) + \"  input: \" + source_)\n",
    "            print(string_output.replace(\"\\x00\", \"_\"))\n",
    "            print([string_output])\n",
    "            \n",
    "            \n",
    "            plt.figure(figsize=(12, 9))\n",
    "            plt.subplot(131)\n",
    "            plt.title(\"Input\")\n",
    "            plt.imshow(terence.embeded[:130].data.byte().numpy(), cmap=\"Greys_r\", interpolation=\"none\")\n",
    "            plt.subplot(132)\n",
    "            plt.title(\"Output\")\n",
    "            plt.imshow(terence.output[:130].data.byte().numpy(), cmap=\"Greys_r\", interpolation=\"none\")\n",
    "            plt.subplot(133)\n",
    "            plt.title(\"Softmax Output\")\n",
    "            plt.imshow(terence.softmax[:130].cpu().data.numpy(), cmap=\"Greys_r\", interpolation=\"none\")\n",
    "            plt.show()\n",
    "            \n",
    "            plt.figure(figsize=(10, 3))\n",
    "            plt.title('Training loss')\n",
    "            plt.plot(terence.losses, label=\"loss\", linewidth=3, alpha=0.4)\n",
    "            plt.show()\n",
    "\n",
    "            "
   ]
  },
  {
   "cell_type": "markdown",
   "metadata": {},
   "source": [
    "## Now use the network to generate text!"
   ]
  },
  {
   "cell_type": "code",
   "execution_count": 8,
   "metadata": {
    "collapsed": true
   },
   "outputs": [],
   "source": [
    "# terence.save('./data/Vanilla_RNN_Tao.tar')"
   ]
  },
  {
   "cell_type": "code",
   "execution_count": 9,
   "metadata": {
    "collapsed": false
   },
   "outputs": [],
   "source": [
    "from ipywidgets import widgets\n",
    "from IPython.display import display"
   ]
  },
  {
   "cell_type": "code",
   "execution_count": 10,
   "metadata": {
    "collapsed": false
   },
   "outputs": [
    {
     "name": "stdout",
     "output_type": "stream",
     "text": [
      "____3\n",
      "['\\x00\\x00\\x00\\x003']\n"
     ]
    },
    {
     "data": {
      "image/png": "[encoded data removed]",
      "text/plain": [
       "<matplotlib.figure.Figure at 0x7fee128497f0>"
      ]
     },
     "metadata": {
      "image/png": {
       "height": 56,
       "width": 715
      }
     },
     "output_type": "display_data"
    }
   ],
   "source": [
    "def predict_next(input_text, gen_length=None, temperature=0.05):\n",
    "    \n",
    "    if gen_length is None: \n",
    "        gen_length = len(input_text)\n",
    "    \n",
    "    clear_output(wait=True)\n",
    "    ted = Tao(model).init_hidden_(random=False)\n",
    "    \n",
    "    ted.next_(input_text)\n",
    "    ted.softmax_()\n",
    "    string_output = ted.text()\n",
    "        \n",
    "    for i in range(1, gen_length - len(input_text)):\n",
    "        last_char = string_output[-1]\n",
    "        ted.next_(last_char)\n",
    "        ted.softmax_(temperature)\n",
    "        string_output += ted.text()\n",
    "    \n",
    "    print(string_output.replace(\"\\x00\", \"_\"))\n",
    "    print([string_output])\n",
    "    \n",
    "    plt.figure(figsize=(12, 9))\n",
    "    plt.subplot(131)\n",
    "    plt.title(\"Input\")\n",
    "    plt.imshow(ted.embeded[:130].data.byte().numpy(), cmap=\"Greys_r\", interpolation=\"none\")\n",
    "    plt.subplot(132)\n",
    "    plt.title(\"Output\")\n",
    "    plt.imshow(ted.output[:130].data.byte().numpy(), cmap=\"Greys_r\", interpolation=\"none\")\n",
    "    plt.subplot(133)\n",
    "    plt.title(\"Softmax Output\")\n",
    "    plt.imshow(ted.softmax[:130].cpu().data.numpy(), cmap=\"Greys_r\", interpolation=\"none\")\n",
    "    plt.show()\n",
    "\n",
    "\n",
    "predict_next(\"1+1=?\", 6, 0.01)\n",
    "predict_next(\"1+1=?\", 6, 0.01)\n",
    "predict_next(\"1+1=?\", 6, 0.01)\n",
    "predict_next(\"1+2=?\", 6, 0.01)\n",
    "predict_next(\"1+2=?\", 6, 0.01)\n",
    "predict_next(\"1+2=?\", 6, 0.01)"
   ]
  },
  {
   "cell_type": "code",
   "execution_count": 12,
   "metadata": {
    "collapsed": false,
    "scrolled": false
   },
   "outputs": [
    {
     "name": "stdout",
     "output_type": "stream",
     "text": [
      "____2\n",
      "['\\x00\\x00\\x00\\x002']\n"
     ]
    },
    {
     "data": {
      "image/png": "[encoded data removed]",
      "text/plain": [
       "<matplotlib.figure.Figure at 0x7fee3161cf98>"
      ]
     },
     "metadata": {
      "image/png": {
       "height": 48,
       "width": 723
      }
     },
     "output_type": "display_data"
    }
   ],
   "source": [
    "text_input = widgets.Text()\n",
    "display(text_input)\n",
    "\n",
    "def handle_submit(sender):\n",
    "    predict_next(text_input.value, len(text_input.value)+2, temperature=0.005)\n",
    "    \n",
    "text_input.on_submit(handle_submit)"
   ]
  },
  {
   "cell_type": "markdown",
   "metadata": {
    "collapsed": true
   },
   "source": [
    "We can draw a few key learnings from this!"
   ]
  },
  {
   "cell_type": "code",
   "execution_count": null,
   "metadata": {
    "collapsed": true
   },
   "outputs": [],
   "source": []
  },
  {
   "cell_type": "code",
   "execution_count": null,
   "metadata": {
    "collapsed": true
   },
   "outputs": [],
   "source": []
  }
 ],
 "metadata": {
  "anaconda-cloud": {},
  "kernelspec": {
   "display_name": "deep-learning-python3",
   "language": "python",
   "name": "deep-learning"
  },
  "language_info": {
   "codemirror_mode": {
    "name": "ipython",
    "version": 3
   },
   "file_extension": ".py",
   "mimetype": "text/x-python",
   "name": "python",
   "nbconvert_exporter": "python",
   "pygments_lexer": "ipython3",
   "version": "3.6.0"
  },
  "widgets": {
   "state": {
    "17298efebe594dc1b94fb6ba924f3c4b": {
     "views": [
      {
       "cell_index": 9
      }
     ]
    },
    "7e82dbc7be6b4d6a824f1c93e8f5826e": {
     "views": [
      {
       "cell_index": 10
      }
     ]
    }
   },
   "version": "1.2.0"
  }
 },
 "nbformat": 4,
 "nbformat_minor": 0
}
